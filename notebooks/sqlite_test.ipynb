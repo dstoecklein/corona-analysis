{
 "cells": [
  {
   "cell_type": "code",
   "execution_count": 9,
   "metadata": {},
   "outputs": [],
   "source": [
    "from sqlalchemy import create_engine, ForeignKey, Column, Integer, String\n",
    "from sqlalchemy.ext.declarative import declarative_base\n",
    "from sqlalchemy.orm import relationship\n",
    "\n",
    "engine = create_engine('sqlite:///sales.db', echo=True)\n",
    "Base = declarative_base()"
   ]
  },
  {
   "cell_type": "code",
   "execution_count": 10,
   "metadata": {},
   "outputs": [],
   "source": [
    "class Customer(Base):\n",
    "   __tablename__ = 'customers'\n",
    "\n",
    "   id = Column(Integer, primary_key = True)\n",
    "   name = Column(String)\n",
    "   address = Column(String)\n",
    "   email = Column(String)"
   ]
  },
  {
   "cell_type": "code",
   "execution_count": 11,
   "metadata": {},
   "outputs": [],
   "source": [
    "class Invoice(Base):\n",
    "   __tablename__ = 'invoices'\n",
    "   \n",
    "   id = Column(Integer, primary_key = True)\n",
    "   custid = Column(Integer, ForeignKey('customers.id'))\n",
    "   invno = Column(Integer)\n",
    "   amount = Column(Integer)\n",
    "   customer = relationship(\"Customer\", back_populates = \"invoices\")"
   ]
  },
  {
   "cell_type": "code",
   "execution_count": 12,
   "metadata": {},
   "outputs": [
    {
     "name": "stdout",
     "output_type": "stream",
     "text": [
      "2022-07-01 22:44:39,419 INFO sqlalchemy.engine.Engine BEGIN (implicit)\n",
      "2022-07-01 22:44:39,419 INFO sqlalchemy.engine.Engine PRAGMA main.table_info(\"customers\")\n",
      "2022-07-01 22:44:39,420 INFO sqlalchemy.engine.Engine [raw sql] ()\n",
      "2022-07-01 22:44:39,420 INFO sqlalchemy.engine.Engine PRAGMA temp.table_info(\"customers\")\n",
      "2022-07-01 22:44:39,421 INFO sqlalchemy.engine.Engine [raw sql] ()\n",
      "2022-07-01 22:44:39,422 INFO sqlalchemy.engine.Engine PRAGMA main.table_info(\"invoices\")\n",
      "2022-07-01 22:44:39,422 INFO sqlalchemy.engine.Engine [raw sql] ()\n",
      "2022-07-01 22:44:39,423 INFO sqlalchemy.engine.Engine PRAGMA temp.table_info(\"invoices\")\n",
      "2022-07-01 22:44:39,423 INFO sqlalchemy.engine.Engine [raw sql] ()\n",
      "2022-07-01 22:44:39,424 INFO sqlalchemy.engine.Engine \n",
      "CREATE TABLE customers (\n",
      "\tid INTEGER NOT NULL, \n",
      "\tname VARCHAR, \n",
      "\taddress VARCHAR, \n",
      "\temail VARCHAR, \n",
      "\tPRIMARY KEY (id)\n",
      ")\n",
      "\n",
      "\n",
      "2022-07-01 22:44:39,424 INFO sqlalchemy.engine.Engine [no key 0.00028s] ()\n",
      "2022-07-01 22:44:39,427 INFO sqlalchemy.engine.Engine \n",
      "CREATE TABLE invoices (\n",
      "\tid INTEGER NOT NULL, \n",
      "\tcustid INTEGER, \n",
      "\tinvno INTEGER, \n",
      "\tamount INTEGER, \n",
      "\tPRIMARY KEY (id), \n",
      "\tFOREIGN KEY(custid) REFERENCES customers (id)\n",
      ")\n",
      "\n",
      "\n",
      "2022-07-01 22:44:39,427 INFO sqlalchemy.engine.Engine [no key 0.00032s] ()\n",
      "2022-07-01 22:44:39,428 INFO sqlalchemy.engine.Engine COMMIT\n"
     ]
    }
   ],
   "source": [
    "Customer.invoices = relationship(\"Invoice\", order_by = Invoice.id, back_populates = \"customer\")\n",
    "Base.metadata.create_all(engine)"
   ]
  },
  {
   "cell_type": "code",
   "execution_count": null,
   "metadata": {},
   "outputs": [],
   "source": []
  }
 ],
 "metadata": {
  "kernelspec": {
   "display_name": "Python 3.9.7 ('data_science')",
   "language": "python",
   "name": "python3"
  },
  "language_info": {
   "codemirror_mode": {
    "name": "ipython",
    "version": 3
   },
   "file_extension": ".py",
   "mimetype": "text/x-python",
   "name": "python",
   "nbconvert_exporter": "python",
   "pygments_lexer": "ipython3",
   "version": "3.9.7"
  },
  "orig_nbformat": 4,
  "vscode": {
   "interpreter": {
    "hash": "3dd02a6aea8937326c57b039eb9536dc82a9b6b540bd6b363cd3d70915ded733"
   }
  }
 },
 "nbformat": 4,
 "nbformat_minor": 2
}
